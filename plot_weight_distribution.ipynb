{
 "cells": [
  {
   "cell_type": "code",
   "execution_count": 1,
   "metadata": {},
   "outputs": [],
   "source": [
    "import torch\n",
    "import numpy as np\n",
    "import matplotlib.pyplot as plt\n",
    "from scipy.spatial import distance\n",
    "import pandas as pd"
   ]
  },
  {
   "cell_type": "code",
   "execution_count": 309,
   "metadata": {},
   "outputs": [],
   "source": [
    "res = torch.load('results\\epoch95.t7')"
   ]
  },
  {
   "cell_type": "code",
   "execution_count": 310,
   "metadata": {},
   "outputs": [],
   "source": [
    "weights = res['updates']\n",
    "peers_types = res['peers_types']"
   ]
  },
  {
   "cell_type": "code",
   "execution_count": 311,
   "metadata": {},
   "outputs": [
    {
     "data": {
      "text/plain": [
       "tensor([[ 0.0748,  0.1628,  0.0902,  ...,  0.0602, -0.0554,  0.0182],\n",
       "        [-0.0898, -0.1014, -0.0681,  ..., -0.0515, -0.1129, -0.0899],\n",
       "        [ 0.0680,  0.0061, -0.0075,  ..., -0.0129,  0.0588,  0.1297],\n",
       "        ...,\n",
       "        [ 0.1532, -0.0812, -0.0807,  ..., -0.0724,  0.0637, -0.0352],\n",
       "        [-0.0870,  0.1223,  0.0606,  ...,  0.1845,  0.0897,  0.0946],\n",
       "        [-0.0932,  0.1241, -0.0756,  ..., -0.0768,  0.0004, -0.0579]],\n",
       "       device='cuda:0')"
      ]
     },
     "execution_count": 311,
     "metadata": {},
     "output_type": "execute_result"
    }
   ],
   "source": [
    "weights[0]['linear.weight']"
   ]
  },
  {
   "cell_type": "code",
   "execution_count": 312,
   "metadata": {},
   "outputs": [],
   "source": [
    "n = len(peers_types)"
   ]
  },
  {
   "cell_type": "code",
   "execution_count": 313,
   "metadata": {},
   "outputs": [],
   "source": [
    "weights_list = [[] for i in range(n)]\n",
    "last_layer_list = [[] for i in range(n)]"
   ]
  },
  {
   "cell_type": "code",
   "execution_count": 314,
   "metadata": {},
   "outputs": [],
   "source": [
    "layers = weights[0].keys()\n",
    "for i in range(n):\n",
    "    for layer in layers:\n",
    "        x = weights[i][layer].squeeze().flatten().cpu().numpy()\n",
    "#         weights_list[i]= x if not len(weights_list[i]) else np.concatenate((weights_list[i], x))\n",
    "        if layer == 'linear.weight':\n",
    "            last_layer_list[i]= x "
   ]
  },
  {
   "cell_type": "code",
   "execution_count": 315,
   "metadata": {},
   "outputs": [],
   "source": [
    "updates_dists = np.zeros([n, n])\n",
    "last_layer_dists = np.zeros([n, n])\n",
    "for i in range(n):\n",
    "    updates_dists[i] = distance.cdist([weights_list[i]], weights_list)\n",
    "    last_layer_dists[i] = distance.cdist([last_layer_list[i]], last_layer_list)"
   ]
  },
  {
   "cell_type": "code",
   "execution_count": 316,
   "metadata": {},
   "outputs": [],
   "source": [
    "updates_dists = np.sort(updates_dists, axis = 1)\n",
    "last_layer_dists = np.sort(last_layer_dists, axis = 1)"
   ]
  },
  {
   "cell_type": "code",
   "execution_count": 317,
   "metadata": {},
   "outputs": [],
   "source": [
    "updates_dists = updates_dists.T\n",
    "updates_dists = updates_dists[:-8]\n",
    "last_layer_dists = last_layer_dists.T\n",
    "last_layer_dists = last_layer_dists[:-8]"
   ]
  },
  {
   "cell_type": "code",
   "execution_count": 318,
   "metadata": {},
   "outputs": [],
   "source": [
    "updates_dists = updates_dists.T\n",
    "last_layer_dists = last_layer_dists.T"
   ]
  },
  {
   "cell_type": "code",
   "execution_count": 319,
   "metadata": {},
   "outputs": [],
   "source": [
    "dists = np.sum(last_layer_dists, axis=1)"
   ]
  },
  {
   "cell_type": "code",
   "execution_count": 320,
   "metadata": {},
   "outputs": [],
   "source": [
    "indices = dists.argsort()"
   ]
  },
  {
   "cell_type": "code",
   "execution_count": 321,
   "metadata": {},
   "outputs": [],
   "source": [
    "good_idx = indices[:-8]\n",
    "bad_idx = indices[-8:]"
   ]
  },
  {
   "cell_type": "code",
   "execution_count": 331,
   "metadata": {},
   "outputs": [],
   "source": [
    "g_u = []\n",
    "b_u = []\n",
    "for idx in indices:\n",
    "    if idx in good_idx:\n",
    "        g_u.append(last_layer_list[idx].reshape(10, 512))\n",
    "    else:\n",
    "        b_u.append(last_layer_list[idx].reshape(10, 512))"
   ]
  },
  {
   "cell_type": "code",
   "execution_count": 332,
   "metadata": {},
   "outputs": [],
   "source": [
    "avg = g_u[0]\n",
    "for j in range(1, len(g_u)):\n",
    "    avg+= g_u[j]\n",
    "avg/= len(g_u)"
   ]
  },
  {
   "cell_type": "code",
   "execution_count": 333,
   "metadata": {},
   "outputs": [
    {
     "ename": "TypeError",
     "evalue": "object of type 'numpy.float64' has no len()",
     "output_type": "error",
     "traceback": [
      "\u001b[1;31m---------------------------------------------------------------------------\u001b[0m",
      "\u001b[1;31mTypeError\u001b[0m                                 Traceback (most recent call last)",
      "\u001b[1;32m<ipython-input-333-9141aac4e78d>\u001b[0m in \u001b[0;36m<module>\u001b[1;34m\u001b[0m\n\u001b[0;32m      4\u001b[0m     \u001b[1;32mfor\u001b[0m \u001b[0mi\u001b[0m \u001b[1;32min\u001b[0m \u001b[0mrange\u001b[0m\u001b[1;33m(\u001b[0m\u001b[1;36m10\u001b[0m\u001b[1;33m)\u001b[0m\u001b[1;33m:\u001b[0m\u001b[1;33m\u001b[0m\u001b[1;33m\u001b[0m\u001b[0m\n\u001b[0;32m      5\u001b[0m         \u001b[0md\u001b[0m \u001b[1;33m=\u001b[0m \u001b[0msum\u001b[0m\u001b[1;33m(\u001b[0m\u001b[0mabs\u001b[0m\u001b[1;33m(\u001b[0m\u001b[0mb\u001b[0m\u001b[1;33m[\u001b[0m\u001b[0mi\u001b[0m\u001b[1;33m,\u001b[0m \u001b[1;33m:\u001b[0m\u001b[1;33m]\u001b[0m\u001b[1;33m-\u001b[0m\u001b[0mavg\u001b[0m\u001b[1;33m[\u001b[0m\u001b[0mi\u001b[0m\u001b[1;33m,\u001b[0m \u001b[1;33m:\u001b[0m\u001b[1;33m]\u001b[0m\u001b[1;33m)\u001b[0m\u001b[1;33m)\u001b[0m\u001b[1;33m\u001b[0m\u001b[1;33m\u001b[0m\u001b[0m\n\u001b[1;32m----> 6\u001b[1;33m         \u001b[0mdist\u001b[0m \u001b[1;33m=\u001b[0m \u001b[0md\u001b[0m \u001b[1;32mif\u001b[0m \u001b[1;32mnot\u001b[0m \u001b[0mlen\u001b[0m\u001b[1;33m(\u001b[0m\u001b[0mdist\u001b[0m\u001b[1;33m)\u001b[0m \u001b[1;32melse\u001b[0m \u001b[0mnp\u001b[0m\u001b[1;33m.\u001b[0m\u001b[0mconcatenate\u001b[0m\u001b[1;33m(\u001b[0m\u001b[1;33m(\u001b[0m\u001b[0mdist\u001b[0m\u001b[1;33m,\u001b[0m \u001b[0md\u001b[0m\u001b[1;33m)\u001b[0m\u001b[1;33m)\u001b[0m\u001b[1;33m\u001b[0m\u001b[1;33m\u001b[0m\u001b[0m\n\u001b[0m\u001b[0;32m      7\u001b[0m     \u001b[0mdist2\u001b[0m\u001b[1;33m.\u001b[0m\u001b[0mappend\u001b[0m\u001b[1;33m(\u001b[0m\u001b[0mdist\u001b[0m\u001b[1;33m)\u001b[0m\u001b[1;33m\u001b[0m\u001b[1;33m\u001b[0m\u001b[0m\n",
      "\u001b[1;31mTypeError\u001b[0m: object of type 'numpy.float64' has no len()"
     ]
    }
   ],
   "source": [
    "dist2 = []\n",
    "for b in b_u:\n",
    "    dist = []\n",
    "    for i in range(10):\n",
    "        d = sum(abs(b[i, :]-avg[i, :]))\n",
    "        dist = d if not len(dist) else np.concatenate((dist, d))\n",
    "    dist2.append(dist)"
   ]
  },
  {
   "cell_type": "code",
   "execution_count": 325,
   "metadata": {},
   "outputs": [],
   "source": [
    "dist = []\n",
    "for d in dist2:\n",
    "    top3 = d.argsort()[-3:]\n",
    "    dist = top3 if not len(dist) else np.concatenate((dist, top3))"
   ]
  },
  {
   "cell_type": "code",
   "execution_count": 326,
   "metadata": {},
   "outputs": [],
   "source": [
    "a = set(dist)\n",
    "freq = {}\n",
    "for x in a:\n",
    "    freq[x] = np.where(dist == x)[0].sum()"
   ]
  },
  {
   "cell_type": "code",
   "execution_count": 327,
   "metadata": {},
   "outputs": [
    {
     "data": {
      "text/plain": [
       "[(0, 0),\n",
       " (6, 2),\n",
       " (9, 10),\n",
       " (1, 18),\n",
       " (8, 24),\n",
       " (4, 28),\n",
       " (5, 43),\n",
       " (7, 43),\n",
       " (3, 52),\n",
       " (2, 56)]"
      ]
     },
     "execution_count": 327,
     "metadata": {},
     "output_type": "execute_result"
    }
   ],
   "source": [
    "sorted(freq.items(), key=lambda item: item[1])"
   ]
  },
  {
   "cell_type": "code",
   "execution_count": null,
   "metadata": {},
   "outputs": [],
   "source": [
    "df1 = pd.DataFrame({'peer_type': peers_types, 'd1':np.sum(updates_dists, axis = 1)})\n",
    "df2 = pd.DataFrame({'peer_type': peers_types, 'd2':np.sum(last_layer_dists, axis = 1)})"
   ]
  },
  {
   "cell_type": "code",
   "execution_count": null,
   "metadata": {},
   "outputs": [],
   "source": [
    "df2[df2['peer_type'] == 'Bad update'].d2.mean()"
   ]
  },
  {
   "cell_type": "code",
   "execution_count": null,
   "metadata": {},
   "outputs": [],
   "source": [
    "df2[df2['peer_type'] == 'Good update'].d2.mean()"
   ]
  },
  {
   "cell_type": "code",
   "execution_count": null,
   "metadata": {},
   "outputs": [],
   "source": [
    "good_updates = []\n",
    "bad_updates = []\n",
    "good_last_layers = []\n",
    "bad_last_layers = []\n",
    "set(peers_types)"
   ]
  },
  {
   "cell_type": "code",
   "execution_count": null,
   "metadata": {},
   "outputs": [],
   "source": [
    "for i, t in enumerate(peers_types):\n",
    "    if t == 'Good update':\n",
    "        good_updates= weights_list[i] if not len(good_updates) else np.concatenate((good_updates, weights_list[i]))\n",
    "        good_last_layers= last_layer_list[i] if not len(good_last_layers) else np.concatenate((good_last_layers, last_layer_list[i]))\n",
    "    else:\n",
    "        bad_updates= weights_list[i] if not len(bad_updates) else np.concatenate((bad_updates, weights_list[i]))\n",
    "        bad_last_layers= last_layer_list[i] if not len(bad_last_layers) else np.concatenate((bad_last_layers, last_layer_list[i]))"
   ]
  },
  {
   "cell_type": "code",
   "execution_count": null,
   "metadata": {},
   "outputs": [],
   "source": [
    "\n",
    "fig,ax = plt.subplots(1)\n",
    "\n",
    "ax.hist(good_updates, alpha=0.4, bins= 10, label='Good Updates')\n",
    "ax.hist(bad_updates, alpha=0.6, bins= 10, label='Bad Updates', color = 'red')\n",
    "plt.legend(loc='upper right')\n",
    "ax.set_yticks([])\n",
    "ax.set_xticks([])\n",
    "# plt.savefig('cifar10_resnet18_dist_all.png',  bbox_inches='tight', dpi = 600)\n",
    "plt.show()"
   ]
  },
  {
   "cell_type": "code",
   "execution_count": null,
   "metadata": {},
   "outputs": [],
   "source": [
    "fig,ax = plt.subplots(1)\n",
    "ax.hist(good_last_layers, alpha=0.4, bins = 300, label='Good Updates')\n",
    "ax.hist(bad_last_layers, alpha=0.6, bins = 300, label='Bad Updates', color = 'red')\n",
    "plt.legend(loc='upper right')\n",
    "ax.set_yticks([])\n",
    "ax.set_xticks([])\n",
    "# plt.savefig('cifar10_resnet18_dist_last.png',  bbox_inches='tight', dpi = 600)\n",
    "plt.show()"
   ]
  },
  {
   "cell_type": "code",
   "execution_count": null,
   "metadata": {},
   "outputs": [],
   "source": []
  }
 ],
 "metadata": {
  "kernelspec": {
   "display_name": "Python 3",
   "language": "python",
   "name": "python3"
  },
  "language_info": {
   "codemirror_mode": {
    "name": "ipython",
    "version": 3
   },
   "file_extension": ".py",
   "mimetype": "text/x-python",
   "name": "python",
   "nbconvert_exporter": "python",
   "pygments_lexer": "ipython3",
   "version": "3.7.4"
  }
 },
 "nbformat": 4,
 "nbformat_minor": 2
}
